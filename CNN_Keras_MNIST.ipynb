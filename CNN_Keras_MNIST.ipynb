{
  "nbformat": 4,
  "nbformat_minor": 0,
  "metadata": {
    "colab": {
      "name": "CNN_Keras_MNIST.ipynb",
      "provenance": [],
      "include_colab_link": true
    },
    "kernelspec": {
      "name": "python3",
      "display_name": "Python 3"
    }
  },
  "cells": [
    {
      "cell_type": "markdown",
      "metadata": {
        "id": "view-in-github",
        "colab_type": "text"
      },
      "source": [
        "<a href=\"https://colab.research.google.com/github/young-hwanlee/CNN_Keras_MNIST/blob/master/CNN_Keras_MNIST.ipynb\" target=\"_parent\"><img src=\"https://colab.research.google.com/assets/colab-badge.svg\" alt=\"Open In Colab\"/></a>"
      ]
    },
    {
      "cell_type": "markdown",
      "metadata": {
        "id": "i4J3mTgsyNJC"
      },
      "source": [
        "# ** There're not much to modify since this code is written using the high-level APIs(tf.keras).**"
      ]
    },
    {
      "cell_type": "code",
      "metadata": {
        "colab": {
          "base_uri": "https://localhost:8080/"
        },
        "id": "G_4Dt4KeS0yy",
        "outputId": "6e3f8f8d-12f5-4a2f-beba-d239cd16f44f"
      },
      "source": [
        "!git clone https://github.com/young-hwanlee/CNN_Keras_MNIST.git"
      ],
      "execution_count": 1,
      "outputs": [
        {
          "output_type": "stream",
          "name": "stdout",
          "text": [
            "Cloning into 'CNN_Keras_MNIST'...\n",
            "remote: Enumerating objects: 42, done.\u001b[K\n",
            "remote: Counting objects: 100% (42/42), done.\u001b[K\n",
            "remote: Compressing objects: 100% (39/39), done.\u001b[K\n",
            "remote: Total 42 (delta 11), reused 0 (delta 0), pack-reused 0\u001b[K\n",
            "Unpacking objects: 100% (42/42), done.\n"
          ]
        }
      ]
    },
    {
      "cell_type": "code",
      "metadata": {
        "colab": {
          "base_uri": "https://localhost:8080/"
        },
        "id": "v0aL26uZS8rj",
        "outputId": "2c2c907d-4d23-4e6f-bb3e-a221be7d62ae"
      },
      "source": [
        "ls -ltr"
      ],
      "execution_count": 2,
      "outputs": [
        {
          "output_type": "stream",
          "name": "stdout",
          "text": [
            "total 8\n",
            "drwxr-xr-x 1 root root 4096 Sep  1 19:26 \u001b[0m\u001b[01;34msample_data\u001b[0m/\n",
            "drwxr-xr-x 3 root root 4096 Sep  3 06:53 \u001b[01;34mCNN_Keras_MNIST\u001b[0m/\n"
          ]
        }
      ]
    },
    {
      "cell_type": "code",
      "metadata": {
        "id": "2e8jH6AGHY0x",
        "outputId": "acc4d0a6-85f6-4e1e-ba28-e23b2c72f893",
        "colab": {
          "base_uri": "https://localhost:8080/"
        }
      },
      "source": [
        "#%%\n",
        "import os\n",
        "os.environ['KMP_DUPLICATE_LIB_OK'] = 'True'\n",
        "\n",
        "## Import libraries and modules\n",
        "import sys\n",
        "import keras\n",
        "import tensorflow as tf\n",
        "import numpy as np\n",
        "import matplotlib.pyplot as plt\n",
        "\n",
        "# from tensorflow.python.keras.models import Sequential\n",
        "# from tensorflow.python.keras.layers import Dense, Dropout, Activation, Flatten\n",
        "# from tensorflow.python.keras.layers import Convolution2D, MaxPooling2D\n",
        "# from tensorflow.python.keras import utils\n",
        "# from tensorflow.python.keras.datasets import mnist\n",
        "# from tensorflow.python.keras.callbacks import ReduceLROnPlateau\n",
        "\n",
        "from keras.models import Sequential\n",
        "from keras.layers import Dense, Dropout, Activation, Flatten\n",
        "from keras.layers import Convolution2D, MaxPooling2D\n",
        "from keras import utils\n",
        "from keras.datasets import mnist\n",
        "from keras.callbacks import ReduceLROnPlateau\n",
        "\n",
        "## Set up the seed for reproducibility.\n",
        "seed=42\n",
        "\n",
        "# tf.reset_default_graph()           # It seems like it's only working in the old version.\n",
        "# tf.set_random_seed(seed)       # It seems like it's only working in the old version.\n",
        "\n",
        "tf.compat.v1.reset_default_graph()\n",
        "tf.compat.v1.set_random_seed(seed)\n",
        "np.random.seed(seed)\n",
        "\n",
        "print('Python version : ', sys.version)\n",
        "print('TensorFlow version : ', tf.__version__)\n",
        "print('Keras version : ', keras.__version__)"
      ],
      "execution_count": 5,
      "outputs": [
        {
          "output_type": "stream",
          "name": "stdout",
          "text": [
            "Python version :  3.7.11 (default, Jul  3 2021, 18:01:19) \n",
            "[GCC 7.5.0]\n",
            "TensorFlow version :  2.6.0\n",
            "Keras version :  2.6.0\n"
          ]
        }
      ]
    },
    {
      "cell_type": "code",
      "metadata": {
        "id": "50N6LottWVbS",
        "outputId": "259aedc1-e02d-42d8-ea53-00b171c0c4df",
        "colab": {
          "base_uri": "https://localhost:8080/"
        }
      },
      "source": [
        "## Load pre-shuffled MNIST data into train and test sets\n",
        "(X_train, y_train), (X_test, y_test) = mnist.load_data()\n",
        "\n",
        "## Preprocess input data\n",
        "img_rows = 28\n",
        "img_cols = 28\n",
        "input_shape = (img_rows, img_cols, 1)\n",
        "\n",
        "X_train = X_train.reshape(X_train.shape[0], img_rows, img_cols, 1)\n",
        "X_test = X_test.reshape(X_test.shape[0], img_rows, img_cols, 1)\n",
        "X_train = X_train.astype('float32')\n",
        "X_test = X_test.astype('float32')\n",
        "X_train /= 255\n",
        "X_test /= 255\n",
        "\n",
        "## Reserve 10,000 samples for validation\n",
        "X_train = X_train[:-10000]\n",
        "y_train = y_train[:-10000]\n",
        "X_val = X_train[-10000:]\n",
        "y_val = y_train[-10000:]\n",
        "\n",
        "## Preprocess class labels\n",
        "num_classes = 10\n",
        "\n",
        "# Y_train = utils.to_categorical(y_train, num_classes)     # It seems like it's only working in the old version.\n",
        "# Y_val = utils.to_categorical(y_val, num_classes)            # It seems like it's only working in the old version.\n",
        "# Y_test = utils.to_categorical(y_test, num_classes)         # It seems like it's only working in the old version.\n",
        "\n",
        "Y_train = tf.keras.utils.to_categorical(y_train, num_classes)\n",
        "Y_val = tf.keras.utils.to_categorical(y_val, num_classes)\n",
        "Y_test = tf.keras.utils.to_categorical(y_test, num_classes)"
      ],
      "execution_count": 6,
      "outputs": [
        {
          "output_type": "stream",
          "name": "stdout",
          "text": [
            "Downloading data from https://storage.googleapis.com/tensorflow/tf-keras-datasets/mnist.npz\n",
            "11493376/11490434 [==============================] - 0s 0us/step\n",
            "11501568/11490434 [==============================] - 0s 0us/step\n"
          ]
        }
      ]
    },
    {
      "cell_type": "code",
      "metadata": {
        "colab": {
          "base_uri": "https://localhost:8080/"
        },
        "id": "Cu7FbMhmWgsT",
        "outputId": "157ec36f-3676-4109-a208-bd859f4cb7e1"
      },
      "source": [
        "## Define model architecture\n",
        "model = Sequential()\n",
        "model.add(Convolution2D(filters=32, kernel_size=(3,3), strides=(3,3),\n",
        "                        activation='relu', input_shape=input_shape))\n",
        "model.add(Convolution2D(filters=32, kernel_size=(3,3), strides=(3,3),\n",
        "                        activation='relu'))\n",
        "model.add(MaxPooling2D(pool_size=(2,2)))\n",
        "model.add(Dropout(0.25))\n",
        "\n",
        "model.add(Flatten())\n",
        "model.add(Dense(128, activation='relu'))\n",
        "model.add(Dropout(0.5))\n",
        "model.add(Dense(num_classes, activation='softmax'))\n",
        "model.summary()"
      ],
      "execution_count": 7,
      "outputs": [
        {
          "output_type": "stream",
          "name": "stdout",
          "text": [
            "Model: \"sequential\"\n",
            "_________________________________________________________________\n",
            "Layer (type)                 Output Shape              Param #   \n",
            "=================================================================\n",
            "conv2d (Conv2D)              (None, 9, 9, 32)          320       \n",
            "_________________________________________________________________\n",
            "conv2d_1 (Conv2D)            (None, 3, 3, 32)          9248      \n",
            "_________________________________________________________________\n",
            "max_pooling2d (MaxPooling2D) (None, 1, 1, 32)          0         \n",
            "_________________________________________________________________\n",
            "dropout (Dropout)            (None, 1, 1, 32)          0         \n",
            "_________________________________________________________________\n",
            "flatten (Flatten)            (None, 32)                0         \n",
            "_________________________________________________________________\n",
            "dense (Dense)                (None, 128)               4224      \n",
            "_________________________________________________________________\n",
            "dropout_1 (Dropout)          (None, 128)               0         \n",
            "_________________________________________________________________\n",
            "dense_1 (Dense)              (None, 10)                1290      \n",
            "=================================================================\n",
            "Total params: 15,082\n",
            "Trainable params: 15,082\n",
            "Non-trainable params: 0\n",
            "_________________________________________________________________\n"
          ]
        }
      ]
    },
    {
      "cell_type": "code",
      "metadata": {
        "id": "IDZNWAd3eVmp",
        "outputId": "d7ecf37d-b1c4-459e-9c56-7fcb58ef0d56",
        "colab": {
          "base_uri": "https://localhost:8080/",
          "height": 886
        }
      },
      "source": [
        "from IPython.display import SVG\n",
        "from keras.utils.vis_utils import model_to_dot\n",
        "%matplotlib inline\n",
        "\n",
        "SVG(model_to_dot(model, show_shapes=True, dpi=65).create(prog='dot', format='svg'))"
      ],
      "execution_count": 10,
      "outputs": [
        {
          "output_type": "execute_result",
          "data": {
            "text/plain": [
              "<IPython.core.display.SVG object>"
            ],
            "image/svg+xml": "<svg height=\"649pt\" viewBox=\"0.00 0.00 382.00 719.00\" width=\"345pt\" xmlns=\"http://www.w3.org/2000/svg\" xmlns:xlink=\"http://www.w3.org/1999/xlink\">\n<g class=\"graph\" id=\"graph0\" transform=\"scale(.9028 .9028) rotate(0) translate(4 715)\">\n<title>G</title>\n<polygon fill=\"#ffffff\" points=\"-4,4 -4,-715 378,-715 378,4 -4,4\" stroke=\"transparent\"/>\n<!-- 139861102881296 -->\n<g class=\"node\" id=\"node1\">\n<title>139861102881296</title>\n<polygon fill=\"none\" points=\"10.5,-664.5 10.5,-710.5 363.5,-710.5 363.5,-664.5 10.5,-664.5\" stroke=\"#000000\"/>\n<text fill=\"#000000\" font-family=\"Times,serif\" font-size=\"14.00\" text-anchor=\"middle\" x=\"95\" y=\"-683.8\">conv2d_input: InputLayer</text>\n<polyline fill=\"none\" points=\"179.5,-664.5 179.5,-710.5 \" stroke=\"#000000\"/>\n<text fill=\"#000000\" font-family=\"Times,serif\" font-size=\"14.00\" text-anchor=\"middle\" x=\"208.5\" y=\"-695.3\">input:</text>\n<polyline fill=\"none\" points=\"179.5,-687.5 237.5,-687.5 \" stroke=\"#000000\"/>\n<text fill=\"#000000\" font-family=\"Times,serif\" font-size=\"14.00\" text-anchor=\"middle\" x=\"208.5\" y=\"-672.3\">output:</text>\n<polyline fill=\"none\" points=\"237.5,-664.5 237.5,-710.5 \" stroke=\"#000000\"/>\n<text fill=\"#000000\" font-family=\"Times,serif\" font-size=\"14.00\" text-anchor=\"middle\" x=\"300.5\" y=\"-695.3\">[(None, 28, 28, 1)]</text>\n<polyline fill=\"none\" points=\"237.5,-687.5 363.5,-687.5 \" stroke=\"#000000\"/>\n<text fill=\"#000000\" font-family=\"Times,serif\" font-size=\"14.00\" text-anchor=\"middle\" x=\"300.5\" y=\"-672.3\">[(None, 28, 28, 1)]</text>\n</g>\n<!-- 139861089208720 -->\n<g class=\"node\" id=\"node2\">\n<title>139861089208720</title>\n<polygon fill=\"none\" points=\"40.5,-581.5 40.5,-627.5 333.5,-627.5 333.5,-581.5 40.5,-581.5\" stroke=\"#000000\"/>\n<text fill=\"#000000\" font-family=\"Times,serif\" font-size=\"14.00\" text-anchor=\"middle\" x=\"99.5\" y=\"-600.8\">conv2d: Conv2D</text>\n<polyline fill=\"none\" points=\"158.5,-581.5 158.5,-627.5 \" stroke=\"#000000\"/>\n<text fill=\"#000000\" font-family=\"Times,serif\" font-size=\"14.00\" text-anchor=\"middle\" x=\"187.5\" y=\"-612.3\">input:</text>\n<polyline fill=\"none\" points=\"158.5,-604.5 216.5,-604.5 \" stroke=\"#000000\"/>\n<text fill=\"#000000\" font-family=\"Times,serif\" font-size=\"14.00\" text-anchor=\"middle\" x=\"187.5\" y=\"-589.3\">output:</text>\n<polyline fill=\"none\" points=\"216.5,-581.5 216.5,-627.5 \" stroke=\"#000000\"/>\n<text fill=\"#000000\" font-family=\"Times,serif\" font-size=\"14.00\" text-anchor=\"middle\" x=\"275\" y=\"-612.3\">(None, 28, 28, 1)</text>\n<polyline fill=\"none\" points=\"216.5,-604.5 333.5,-604.5 \" stroke=\"#000000\"/>\n<text fill=\"#000000\" font-family=\"Times,serif\" font-size=\"14.00\" text-anchor=\"middle\" x=\"275\" y=\"-589.3\">(None, 9, 9, 32)</text>\n</g>\n<!-- 139861102881296&#45;&gt;139861089208720 -->\n<g class=\"edge\" id=\"edge1\">\n<title>139861102881296-&gt;139861089208720</title>\n<path d=\"M187,-664.3799C187,-656.1745 187,-646.7679 187,-637.8786\" fill=\"none\" stroke=\"#000000\"/>\n<polygon fill=\"#000000\" points=\"190.5001,-637.784 187,-627.784 183.5001,-637.784 190.5001,-637.784\" stroke=\"#000000\"/>\n</g>\n<!-- 139861089210000 -->\n<g class=\"node\" id=\"node3\">\n<title>139861089210000</title>\n<polygon fill=\"none\" points=\"36.5,-498.5 36.5,-544.5 337.5,-544.5 337.5,-498.5 36.5,-498.5\" stroke=\"#000000\"/>\n<text fill=\"#000000\" font-family=\"Times,serif\" font-size=\"14.00\" text-anchor=\"middle\" x=\"103\" y=\"-517.8\">conv2d_1: Conv2D</text>\n<polyline fill=\"none\" points=\"169.5,-498.5 169.5,-544.5 \" stroke=\"#000000\"/>\n<text fill=\"#000000\" font-family=\"Times,serif\" font-size=\"14.00\" text-anchor=\"middle\" x=\"198.5\" y=\"-529.3\">input:</text>\n<polyline fill=\"none\" points=\"169.5,-521.5 227.5,-521.5 \" stroke=\"#000000\"/>\n<text fill=\"#000000\" font-family=\"Times,serif\" font-size=\"14.00\" text-anchor=\"middle\" x=\"198.5\" y=\"-506.3\">output:</text>\n<polyline fill=\"none\" points=\"227.5,-498.5 227.5,-544.5 \" stroke=\"#000000\"/>\n<text fill=\"#000000\" font-family=\"Times,serif\" font-size=\"14.00\" text-anchor=\"middle\" x=\"282.5\" y=\"-529.3\">(None, 9, 9, 32)</text>\n<polyline fill=\"none\" points=\"227.5,-521.5 337.5,-521.5 \" stroke=\"#000000\"/>\n<text fill=\"#000000\" font-family=\"Times,serif\" font-size=\"14.00\" text-anchor=\"middle\" x=\"282.5\" y=\"-506.3\">(None, 3, 3, 32)</text>\n</g>\n<!-- 139861089208720&#45;&gt;139861089210000 -->\n<g class=\"edge\" id=\"edge2\">\n<title>139861089208720-&gt;139861089210000</title>\n<path d=\"M187,-581.3799C187,-573.1745 187,-563.7679 187,-554.8786\" fill=\"none\" stroke=\"#000000\"/>\n<polygon fill=\"#000000\" points=\"190.5001,-554.784 187,-544.784 183.5001,-554.784 190.5001,-554.784\" stroke=\"#000000\"/>\n</g>\n<!-- 139861028434768 -->\n<g class=\"node\" id=\"node4\">\n<title>139861028434768</title>\n<polygon fill=\"none\" points=\"0,-415.5 0,-461.5 374,-461.5 374,-415.5 0,-415.5\" stroke=\"#000000\"/>\n<text fill=\"#000000\" font-family=\"Times,serif\" font-size=\"14.00\" text-anchor=\"middle\" x=\"103\" y=\"-434.8\">max_pooling2d: MaxPooling2D</text>\n<polyline fill=\"none\" points=\"206,-415.5 206,-461.5 \" stroke=\"#000000\"/>\n<text fill=\"#000000\" font-family=\"Times,serif\" font-size=\"14.00\" text-anchor=\"middle\" x=\"235\" y=\"-446.3\">input:</text>\n<polyline fill=\"none\" points=\"206,-438.5 264,-438.5 \" stroke=\"#000000\"/>\n<text fill=\"#000000\" font-family=\"Times,serif\" font-size=\"14.00\" text-anchor=\"middle\" x=\"235\" y=\"-423.3\">output:</text>\n<polyline fill=\"none\" points=\"264,-415.5 264,-461.5 \" stroke=\"#000000\"/>\n<text fill=\"#000000\" font-family=\"Times,serif\" font-size=\"14.00\" text-anchor=\"middle\" x=\"319\" y=\"-446.3\">(None, 3, 3, 32)</text>\n<polyline fill=\"none\" points=\"264,-438.5 374,-438.5 \" stroke=\"#000000\"/>\n<text fill=\"#000000\" font-family=\"Times,serif\" font-size=\"14.00\" text-anchor=\"middle\" x=\"319\" y=\"-423.3\">(None, 1, 1, 32)</text>\n</g>\n<!-- 139861089210000&#45;&gt;139861028434768 -->\n<g class=\"edge\" id=\"edge3\">\n<title>139861089210000-&gt;139861028434768</title>\n<path d=\"M187,-498.3799C187,-490.1745 187,-480.7679 187,-471.8786\" fill=\"none\" stroke=\"#000000\"/>\n<polygon fill=\"#000000\" points=\"190.5001,-471.784 187,-461.784 183.5001,-471.784 190.5001,-471.784\" stroke=\"#000000\"/>\n</g>\n<!-- 139861028174224 -->\n<g class=\"node\" id=\"node5\">\n<title>139861028174224</title>\n<polygon fill=\"none\" points=\"43.5,-332.5 43.5,-378.5 330.5,-378.5 330.5,-332.5 43.5,-332.5\" stroke=\"#000000\"/>\n<text fill=\"#000000\" font-family=\"Times,serif\" font-size=\"14.00\" text-anchor=\"middle\" x=\"103\" y=\"-351.8\">dropout: Dropout</text>\n<polyline fill=\"none\" points=\"162.5,-332.5 162.5,-378.5 \" stroke=\"#000000\"/>\n<text fill=\"#000000\" font-family=\"Times,serif\" font-size=\"14.00\" text-anchor=\"middle\" x=\"191.5\" y=\"-363.3\">input:</text>\n<polyline fill=\"none\" points=\"162.5,-355.5 220.5,-355.5 \" stroke=\"#000000\"/>\n<text fill=\"#000000\" font-family=\"Times,serif\" font-size=\"14.00\" text-anchor=\"middle\" x=\"191.5\" y=\"-340.3\">output:</text>\n<polyline fill=\"none\" points=\"220.5,-332.5 220.5,-378.5 \" stroke=\"#000000\"/>\n<text fill=\"#000000\" font-family=\"Times,serif\" font-size=\"14.00\" text-anchor=\"middle\" x=\"275.5\" y=\"-363.3\">(None, 1, 1, 32)</text>\n<polyline fill=\"none\" points=\"220.5,-355.5 330.5,-355.5 \" stroke=\"#000000\"/>\n<text fill=\"#000000\" font-family=\"Times,serif\" font-size=\"14.00\" text-anchor=\"middle\" x=\"275.5\" y=\"-340.3\">(None, 1, 1, 32)</text>\n</g>\n<!-- 139861028434768&#45;&gt;139861028174224 -->\n<g class=\"edge\" id=\"edge4\">\n<title>139861028434768-&gt;139861028174224</title>\n<path d=\"M187,-415.3799C187,-407.1745 187,-397.7679 187,-388.8786\" fill=\"none\" stroke=\"#000000\"/>\n<polygon fill=\"#000000\" points=\"190.5001,-388.784 187,-378.784 183.5001,-388.784 190.5001,-388.784\" stroke=\"#000000\"/>\n</g>\n<!-- 139861028292368 -->\n<g class=\"node\" id=\"node6\">\n<title>139861028292368</title>\n<polygon fill=\"none\" points=\"54,-249.5 54,-295.5 320,-295.5 320,-249.5 54,-249.5\" stroke=\"#000000\"/>\n<text fill=\"#000000\" font-family=\"Times,serif\" font-size=\"14.00\" text-anchor=\"middle\" x=\"103\" y=\"-268.8\">flatten: Flatten</text>\n<polyline fill=\"none\" points=\"152,-249.5 152,-295.5 \" stroke=\"#000000\"/>\n<text fill=\"#000000\" font-family=\"Times,serif\" font-size=\"14.00\" text-anchor=\"middle\" x=\"181\" y=\"-280.3\">input:</text>\n<polyline fill=\"none\" points=\"152,-272.5 210,-272.5 \" stroke=\"#000000\"/>\n<text fill=\"#000000\" font-family=\"Times,serif\" font-size=\"14.00\" text-anchor=\"middle\" x=\"181\" y=\"-257.3\">output:</text>\n<polyline fill=\"none\" points=\"210,-249.5 210,-295.5 \" stroke=\"#000000\"/>\n<text fill=\"#000000\" font-family=\"Times,serif\" font-size=\"14.00\" text-anchor=\"middle\" x=\"265\" y=\"-280.3\">(None, 1, 1, 32)</text>\n<polyline fill=\"none\" points=\"210,-272.5 320,-272.5 \" stroke=\"#000000\"/>\n<text fill=\"#000000\" font-family=\"Times,serif\" font-size=\"14.00\" text-anchor=\"middle\" x=\"265\" y=\"-257.3\">(None, 32)</text>\n</g>\n<!-- 139861028174224&#45;&gt;139861028292368 -->\n<g class=\"edge\" id=\"edge5\">\n<title>139861028174224-&gt;139861028292368</title>\n<path d=\"M187,-332.3799C187,-324.1745 187,-314.7679 187,-305.8786\" fill=\"none\" stroke=\"#000000\"/>\n<polygon fill=\"#000000\" points=\"190.5001,-305.784 187,-295.784 183.5001,-305.784 190.5001,-305.784\" stroke=\"#000000\"/>\n</g>\n<!-- 139861028292560 -->\n<g class=\"node\" id=\"node7\">\n<title>139861028292560</title>\n<polygon fill=\"none\" points=\"68.5,-166.5 68.5,-212.5 305.5,-212.5 305.5,-166.5 68.5,-166.5\" stroke=\"#000000\"/>\n<text fill=\"#000000\" font-family=\"Times,serif\" font-size=\"14.00\" text-anchor=\"middle\" x=\"114.5\" y=\"-185.8\">dense: Dense</text>\n<polyline fill=\"none\" points=\"160.5,-166.5 160.5,-212.5 \" stroke=\"#000000\"/>\n<text fill=\"#000000\" font-family=\"Times,serif\" font-size=\"14.00\" text-anchor=\"middle\" x=\"189.5\" y=\"-197.3\">input:</text>\n<polyline fill=\"none\" points=\"160.5,-189.5 218.5,-189.5 \" stroke=\"#000000\"/>\n<text fill=\"#000000\" font-family=\"Times,serif\" font-size=\"14.00\" text-anchor=\"middle\" x=\"189.5\" y=\"-174.3\">output:</text>\n<polyline fill=\"none\" points=\"218.5,-166.5 218.5,-212.5 \" stroke=\"#000000\"/>\n<text fill=\"#000000\" font-family=\"Times,serif\" font-size=\"14.00\" text-anchor=\"middle\" x=\"262\" y=\"-197.3\">(None, 32)</text>\n<polyline fill=\"none\" points=\"218.5,-189.5 305.5,-189.5 \" stroke=\"#000000\"/>\n<text fill=\"#000000\" font-family=\"Times,serif\" font-size=\"14.00\" text-anchor=\"middle\" x=\"262\" y=\"-174.3\">(None, 128)</text>\n</g>\n<!-- 139861028292368&#45;&gt;139861028292560 -->\n<g class=\"edge\" id=\"edge6\">\n<title>139861028292368-&gt;139861028292560</title>\n<path d=\"M187,-249.3799C187,-241.1745 187,-231.7679 187,-222.8786\" fill=\"none\" stroke=\"#000000\"/>\n<polygon fill=\"#000000\" points=\"190.5001,-222.784 187,-212.784 183.5001,-222.784 190.5001,-222.784\" stroke=\"#000000\"/>\n</g>\n<!-- 139861028174416 -->\n<g class=\"node\" id=\"node8\">\n<title>139861028174416</title>\n<polygon fill=\"none\" points=\"47.5,-83.5 47.5,-129.5 326.5,-129.5 326.5,-83.5 47.5,-83.5\" stroke=\"#000000\"/>\n<text fill=\"#000000\" font-family=\"Times,serif\" font-size=\"14.00\" text-anchor=\"middle\" x=\"114.5\" y=\"-102.8\">dropout_1: Dropout</text>\n<polyline fill=\"none\" points=\"181.5,-83.5 181.5,-129.5 \" stroke=\"#000000\"/>\n<text fill=\"#000000\" font-family=\"Times,serif\" font-size=\"14.00\" text-anchor=\"middle\" x=\"210.5\" y=\"-114.3\">input:</text>\n<polyline fill=\"none\" points=\"181.5,-106.5 239.5,-106.5 \" stroke=\"#000000\"/>\n<text fill=\"#000000\" font-family=\"Times,serif\" font-size=\"14.00\" text-anchor=\"middle\" x=\"210.5\" y=\"-91.3\">output:</text>\n<polyline fill=\"none\" points=\"239.5,-83.5 239.5,-129.5 \" stroke=\"#000000\"/>\n<text fill=\"#000000\" font-family=\"Times,serif\" font-size=\"14.00\" text-anchor=\"middle\" x=\"283\" y=\"-114.3\">(None, 128)</text>\n<polyline fill=\"none\" points=\"239.5,-106.5 326.5,-106.5 \" stroke=\"#000000\"/>\n<text fill=\"#000000\" font-family=\"Times,serif\" font-size=\"14.00\" text-anchor=\"middle\" x=\"283\" y=\"-91.3\">(None, 128)</text>\n</g>\n<!-- 139861028292560&#45;&gt;139861028174416 -->\n<g class=\"edge\" id=\"edge7\">\n<title>139861028292560-&gt;139861028174416</title>\n<path d=\"M187,-166.3799C187,-158.1745 187,-148.7679 187,-139.8786\" fill=\"none\" stroke=\"#000000\"/>\n<polygon fill=\"#000000\" points=\"190.5001,-139.784 187,-129.784 183.5001,-139.784 190.5001,-139.784\" stroke=\"#000000\"/>\n</g>\n<!-- 139861027912272 -->\n<g class=\"node\" id=\"node9\">\n<title>139861027912272</title>\n<polygon fill=\"none\" points=\"61,-.5 61,-46.5 313,-46.5 313,-.5 61,-.5\" stroke=\"#000000\"/>\n<text fill=\"#000000\" font-family=\"Times,serif\" font-size=\"14.00\" text-anchor=\"middle\" x=\"114.5\" y=\"-19.8\">dense_1: Dense</text>\n<polyline fill=\"none\" points=\"168,-.5 168,-46.5 \" stroke=\"#000000\"/>\n<text fill=\"#000000\" font-family=\"Times,serif\" font-size=\"14.00\" text-anchor=\"middle\" x=\"197\" y=\"-31.3\">input:</text>\n<polyline fill=\"none\" points=\"168,-23.5 226,-23.5 \" stroke=\"#000000\"/>\n<text fill=\"#000000\" font-family=\"Times,serif\" font-size=\"14.00\" text-anchor=\"middle\" x=\"197\" y=\"-8.3\">output:</text>\n<polyline fill=\"none\" points=\"226,-.5 226,-46.5 \" stroke=\"#000000\"/>\n<text fill=\"#000000\" font-family=\"Times,serif\" font-size=\"14.00\" text-anchor=\"middle\" x=\"269.5\" y=\"-31.3\">(None, 128)</text>\n<polyline fill=\"none\" points=\"226,-23.5 313,-23.5 \" stroke=\"#000000\"/>\n<text fill=\"#000000\" font-family=\"Times,serif\" font-size=\"14.00\" text-anchor=\"middle\" x=\"269.5\" y=\"-8.3\">(None, 10)</text>\n</g>\n<!-- 139861028174416&#45;&gt;139861027912272 -->\n<g class=\"edge\" id=\"edge8\">\n<title>139861028174416-&gt;139861027912272</title>\n<path d=\"M187,-83.3799C187,-75.1745 187,-65.7679 187,-56.8786\" fill=\"none\" stroke=\"#000000\"/>\n<polygon fill=\"#000000\" points=\"190.5001,-56.784 187,-46.784 183.5001,-56.784 190.5001,-56.784\" stroke=\"#000000\"/>\n</g>\n</g>\n</svg>"
          },
          "metadata": {},
          "execution_count": 10
        }
      ]
    },
    {
      "cell_type": "code",
      "metadata": {
        "id": "NDueMMdOdx83",
        "outputId": "826f1c4e-ddf6-4a7b-8b5c-8f82e926c974",
        "colab": {
          "base_uri": "https://localhost:8080/"
        }
      },
      "source": [
        "## Compile model\n",
        "model.compile(loss='categorical_crossentropy',\n",
        "              optimizer='adam',\n",
        "              metrics=['accuracy'])\n",
        "\n",
        "## Fit model on training data\n",
        "# history = model.fit(X_train, Y_train, validation_data=(X_val, Y_val),\n",
        "#                  batch_size=32, nb_epoch=10, verbose=1)           # It seems like it's only working in the old version.\n",
        "history = model.fit(X_train, Y_train, validation_data=(X_val, Y_val),\n",
        "                 batch_size=32, epochs=10, verbose=1)\n",
        "\n",
        "## Evaluate model on test data\n",
        "score = model.evaluate(X_test, Y_test, verbose=0)"
      ],
      "execution_count": 8,
      "outputs": [
        {
          "output_type": "stream",
          "name": "stdout",
          "text": [
            "Epoch 1/10\n",
            "1563/1563 [==============================] - 9s 5ms/step - loss: 0.9647 - accuracy: 0.6926 - val_loss: 0.4810 - val_accuracy: 0.8527\n",
            "Epoch 2/10\n",
            "1563/1563 [==============================] - 8s 5ms/step - loss: 0.6097 - accuracy: 0.8154 - val_loss: 0.3721 - val_accuracy: 0.8856\n",
            "Epoch 3/10\n",
            "1563/1563 [==============================] - 8s 5ms/step - loss: 0.5265 - accuracy: 0.8392 - val_loss: 0.3186 - val_accuracy: 0.9032\n",
            "Epoch 4/10\n",
            "1563/1563 [==============================] - 8s 5ms/step - loss: 0.4846 - accuracy: 0.8515 - val_loss: 0.2978 - val_accuracy: 0.9085\n",
            "Epoch 5/10\n",
            "1563/1563 [==============================] - 8s 5ms/step - loss: 0.4529 - accuracy: 0.8630 - val_loss: 0.2723 - val_accuracy: 0.9194\n",
            "Epoch 6/10\n",
            "1563/1563 [==============================] - 7s 5ms/step - loss: 0.4390 - accuracy: 0.8685 - val_loss: 0.2595 - val_accuracy: 0.9207\n",
            "Epoch 7/10\n",
            "1563/1563 [==============================] - 8s 5ms/step - loss: 0.4210 - accuracy: 0.8741 - val_loss: 0.2495 - val_accuracy: 0.9239\n",
            "Epoch 8/10\n",
            "1563/1563 [==============================] - 8s 5ms/step - loss: 0.4143 - accuracy: 0.8759 - val_loss: 0.2443 - val_accuracy: 0.9252\n",
            "Epoch 9/10\n",
            "1563/1563 [==============================] - 8s 5ms/step - loss: 0.4011 - accuracy: 0.8795 - val_loss: 0.2310 - val_accuracy: 0.9305\n",
            "Epoch 10/10\n",
            "1563/1563 [==============================] - 8s 5ms/step - loss: 0.3923 - accuracy: 0.8816 - val_loss: 0.2341 - val_accuracy: 0.9281\n"
          ]
        }
      ]
    },
    {
      "cell_type": "code",
      "metadata": {
        "colab": {
          "base_uri": "https://localhost:8080/",
          "height": 283
        },
        "id": "eQWEb7qgWufp",
        "outputId": "ee4984f6-ccd3-42d5-f80b-63c1f20eb26e"
      },
      "source": [
        "#%%\n",
        "## Check the results\n",
        "# Plots the loss\n",
        "plt.figure()\n",
        "plt.plot(history.history['loss'])\n",
        "plt.plot(history.history['val_loss'])\n",
        "plt.ylabel('loss')\n",
        "plt.xlabel('epoch')\n",
        "plt.legend(['train', 'validation'], loc='upper right')\n",
        "plt.show()"
      ],
      "execution_count": 11,
      "outputs": [
        {
          "output_type": "display_data",
          "data": {
            "image/png": "[encoded data removed]",
            "text/plain": [
              "<Figure size 432x288 with 1 Axes>"
            ]
          },
          "metadata": {
            "needs_background": "light"
          }
        }
      ]
    },
    {
      "cell_type": "code",
      "metadata": {
        "colab": {
          "base_uri": "https://localhost:8080/",
          "height": 279
        },
        "id": "VAcprsz8XuXM",
        "outputId": "db0bf56c-d585-4f03-c72f-4500dcbd0141"
      },
      "source": [
        "# Plots the accuracy\n",
        "plt.figure()\n",
        "# plt.plot(history.history['acc'])                  # It seems like it's only working in the old version.\n",
        "# plt.plot(history.history['val_acc'])          # It seems like it's only working in the old version.\n",
        "plt.plot(history.history['accuracy'])\n",
        "plt.plot(history.history['val_accuracy'])\n",
        "plt.ylabel('accuracy')\n",
        "plt.xlabel('epoch')\n",
        "plt.legend(['train', 'validation'], loc='upper left')\n",
        "plt.show()"
      ],
      "execution_count": 12,
      "outputs": [
        {
          "output_type": "display_data",
          "data": {
            "image/png": "[encoded data removed]",
            "text/plain": [
              "<Figure size 432x288 with 1 Axes>"
            ]
          },
          "metadata": {
            "needs_background": "light"
          }
        }
      ]
    },
    {
      "cell_type": "code",
      "metadata": {
        "colab": {
          "base_uri": "https://localhost:8080/",
          "height": 372
        },
        "id": "5vVUhq-cXwaI",
        "outputId": "87e54b3f-046e-4220-ad55-7a94cb182c56"
      },
      "source": [
        "## Predict using the test dataset\n",
        "Y_pred = model.predict(X_test)\n",
        "X_test__ = X_test.reshape(X_test.shape[0], img_rows, img_cols)\n",
        "\n",
        "# fig, axis = plt.subplots(2, 5, figsize=(12, 14))          # The gap between the 1st row and the 2nd row is large.\n",
        "fig, axis = plt.subplots(2, 5, figsize=(12,6))\n",
        "for i, ax in enumerate(axis.flat):\n",
        "    ax.imshow(X_test__[i], cmap='binary')\n",
        "    ax.set(title = f\"Real Number is {Y_test[i].argmax()}\\n\"\n",
        "                   f\"Predict Number is {Y_pred[i].argmax()}\")"
      ],
      "execution_count": 14,
      "outputs": [
        {
          "output_type": "display_data",
          "data": {
            "image/png": "[encoded data removed]",
            "text/plain": [
              "<Figure size 864x432 with 10 Axes>"
            ]
          },
          "metadata": {
            "needs_background": "light"
          }
        }
      ]
    }
  ]
}